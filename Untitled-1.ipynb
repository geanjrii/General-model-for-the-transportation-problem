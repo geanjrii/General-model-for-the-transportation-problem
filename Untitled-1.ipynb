{
 "cells": [
  {
   "attachments": {},
   "cell_type": "markdown",
   "metadata": {},
   "source": [
    "# Modelo geral para o problema do transporte"
   ]
  },
  {
   "cell_type": "code",
   "execution_count": 1,
   "metadata": {},
   "outputs": [],
   "source": [
    "#Instalação e importação do pacote mip\n",
    "from mip import *"
   ]
  },
  {
   "cell_type": "code",
   "execution_count": 2,
   "metadata": {},
   "outputs": [],
   "source": [
    "def readInstance(filePath):\n",
    "    f = open(filePath, \"r\")\n",
    "\n",
    "    l = f.readline()\n",
    "    nb_industries, nb_cities = int(l.split()[0]), int(l.split()[1])\n",
    "\n",
    "    costs = []\n",
    "    for i in range(nb_industries):\n",
    "        l = f.readline()\n",
    "        costs.append([float(c) for c in l.split()])\n",
    "\n",
    "    l = f.readline()\n",
    "    capacities = [float(c) for c in l.split()]\n",
    "\n",
    "    l = f.readline()\n",
    "    demands = [float(d) for d in l.split()]\n",
    "\n",
    "    f.close()\n",
    "\n",
    "    return nb_industries, nb_cities, costs, capacities, demands"
   ]
  },
  {
   "cell_type": "code",
   "execution_count": 3,
   "metadata": {},
   "outputs": [],
   "source": [
    "#Criação do Modelo\n",
    "\n",
    "def createModel(nb_industries, nb_cities, costs, capacities, demands):\n",
    "\n",
    "    model = Model(sense=MINIMIZE, solver_name=CBC)\n",
    "\n",
    "    x = [[model.add_var(var_type=\"CONTINUOUS\",\n",
    "                        lb=0.0, name=\"x_\" + str(i) + \"_\" + str(j)) for j in range(nb_cities)] for i in range(nb_industries)]\n",
    "\n",
    "    model.objective = xsum(costs[i][j]*x[i][j]\n",
    "                           for i in range(nb_industries) for j in range(nb_cities))\n",
    "\n",
    "    for i in range(nb_industries):\n",
    "        model += xsum(x[i][j] for j in range(nb_cities)\n",
    "                      ) <= capacities[i], \"CAP_\" + str(i)\n",
    "\n",
    "    for j in range(nb_cities):\n",
    "        model += xsum(x[i][j] for i in range(nb_industries)\n",
    "                      ) >= demands[j], \"DEM_\" + str(j)\n",
    "\n",
    "    return model"
   ]
  },
  {
   "cell_type": "code",
   "execution_count": 21,
   "metadata": {},
   "outputs": [
    {
     "name": "stdout",
     "output_type": "stream",
     "text": [
      "\\Problem name: \n",
      "\n",
      "Minimize\n",
      "OBJROW: 60 x_0_0 + 220 x_0_1 + 300 x_0_2 + 270 x_0_3 + 450 x_0_4 + 95 x_1_0 + 45 x_1_1 + 200 x_1_2 + 260 x_1_3 + 230 x_1_4\n",
      " + 450 x_2_0 + 300 x_2_1 + 250 x_2_2 + 100 x_2_3 + 90 x_2_4\n",
      "Subject To\n",
      "CAP_0:  x_0_0 + x_0_1 + x_0_2 + x_0_3 + x_0_4 <= 1100\n",
      "CAP_1:  x_1_0 + x_1_1 + x_1_2 + x_1_3 + x_1_4 <= 1300\n",
      "CAP_2:  x_2_0 + x_2_1 + x_2_2 + x_2_3 + x_2_4 <= 1100\n",
      "DEM_0:  x_0_0 + x_1_0 + x_2_0 >= 400\n",
      "DEM_1:  x_0_1 + x_1_1 + x_2_1 >= 200\n",
      "DEM_2:  x_0_2 + x_1_2 + x_2_2 >= 900\n",
      "DEM_3:  x_0_3 + x_1_3 + x_2_3 >= 1200\n",
      "DEM_4:  x_0_4 + x_1_4 + x_2_4 >= 750\n",
      "Bounds\n",
      "End\n",
      "\n",
      "Starting solution of the Linear programming problem using Primal Simplex\n",
      "\n",
      "Coin0506I Presolve 8 (0) rows, 15 (0) columns and 30 (0) elements\n",
      "Clp1000I sum of infeasibilities 1.01061e-05 - average 1.26326e-06, 8 fixed columns\n",
      "Coin0506I Presolve 3 (-5) rows, 4 (-11) columns and 6 (-24) elements\n",
      "Clp0006I 0  Obj 539000 Primal inf 7.5588553e-06 (2) Dual inf 1e+12 (3)\n",
      "Clp0029I End of values pass after 3 iterations\n",
      "Clp0000I Optimal - objective value 539000\n",
      "Clp0000I Optimal - objective value 539000\n",
      "Coin0511I After Postsolve, objective 539000, infeasibilities - dual 0 (0), primal 0 (0)\n",
      "Clp0006I 0  Obj 539000\n",
      "Clp0000I Optimal - objective value 539000\n",
      "Clp0000I Optimal - objective value 539000\n",
      "Clp0000I Optimal - objective value 539000\n",
      "Clp0032I Optimal objective 539000 - 0 iterations time 0.002, Idiot 0.00\n",
      "Status =  OptimizationStatus.OPTIMAL\n",
      "Solution value  =  539000.0\n",
      "Solution:\n",
      "x_0_0  =  400.0\n",
      "x_0_3  =  650.0\n",
      "x_1_1  =  200.0\n",
      "x_1_2  =  900.0\n",
      "x_1_4  =  200.0\n",
      "x_2_3  =  550.0\n",
      "x_2_4  =  550.0\n"
     ]
    }
   ],
   "source": [
    "#Resolução com Python-MIP\n",
    "\n",
    "\n",
    "nb_industries, nb_cities, costs, capacities, demands = readInstance(\"instance.txt\")\n",
    "model = createModel(nb_industries, nb_cities, costs, capacities, demands)\n",
    "\n",
    "model.write(\"model.lp\")\n",
    "with open(\"model.lp\") as f: # Lê e exibe conteúdo do arquivo\n",
    "  print(f.read())\n",
    "\n",
    "status = model.optimize()\n",
    "  \n",
    "print(\"Status = \", status)\n",
    "print(\"Solution value  = \", model.objective_value)\n",
    "print(\"Solution:\")\n",
    "for v in model.vars:\n",
    "    if v.x > 0.00001:\n",
    "        print(v.name, \" = \", v.x)"
   ]
  },
  {
   "cell_type": "code",
   "execution_count": null,
   "metadata": {},
   "outputs": [],
   "source": []
  }
 ],
 "metadata": {
  "kernelspec": {
   "display_name": "Python 3",
   "language": "python",
   "name": "python3"
  },
  "language_info": {
   "codemirror_mode": {
    "name": "ipython",
    "version": 3
   },
   "file_extension": ".py",
   "mimetype": "text/x-python",
   "name": "python",
   "nbconvert_exporter": "python",
   "pygments_lexer": "ipython3",
   "version": "3.10.6"
  },
  "orig_nbformat": 4
 },
 "nbformat": 4,
 "nbformat_minor": 2
}
